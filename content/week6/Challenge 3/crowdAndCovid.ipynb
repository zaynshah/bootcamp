{
 "cells": [
  {
   "cell_type": "code",
   "execution_count": 303,
   "metadata": {},
   "outputs": [],
   "source": [
    "import urllib.request\n",
    "import pandas as pd\n",
    "import matplotlib.pyplot as plt\n",
    "import os "
   ]
  },
  {
   "cell_type": "code",
   "execution_count": 304,
   "metadata": {},
   "outputs": [
    {
     "data": {
      "text/plain": [
       "('crowds.csv', <http.client.HTTPMessage at 0x14f771190>)"
      ]
     },
     "execution_count": 304,
     "metadata": {},
     "output_type": "execute_result"
    }
   ],
   "source": [
    "urllib.request.urlretrieve('https://data.cityofnewyork.us/api/views/gyrw-gvqc/rows.csv?accessType=DOWNLOAD', 'crowds.csv')"
   ]
  },
  {
   "cell_type": "code",
   "execution_count": 305,
   "metadata": {},
   "outputs": [],
   "source": [
    "# Obtaining data from the online CSV\n",
    "def crowds_data_is_downloaded():\n",
    "  filename = 'crowds.csv'\n",
    "\n",
    "  if os.path.isfile(filename):\n",
    "    \n",
    "      return True\n",
    "  else: \n",
    "      return False\n",
    "\n",
    "if not crowds_data_is_downloaded():\n",
    "  urllib.request.urlretrieve('https://data.cityofnewyork.us/api/views/gyrw-gvqc/rows.csv?accessType=DOWNLOAD', 'crowds.csv')"
   ]
  },
  {
   "cell_type": "code",
   "execution_count": 306,
   "metadata": {},
   "outputs": [],
   "source": [
    "#Defining the dataframe\n",
    "df = pd.read_csv('crowds.csv')\n",
    "\n"
   ]
  },
  {
   "cell_type": "code",
   "execution_count": 307,
   "metadata": {},
   "outputs": [
    {
     "data": {
      "text/plain": [
       "encounter_timestamp    1890\n",
       "park_area_id           1879\n",
       "park_district          1890\n",
       "park_borough           1890\n",
       "patroncount            1890\n",
       "in_playground          1890\n",
       "action_taken           1890\n",
       "amenity                1200\n",
       "dtype: int64"
      ]
     },
     "execution_count": 307,
     "metadata": {},
     "output_type": "execute_result"
    }
   ],
   "source": [
    "#Data cleaning\n",
    "df.count() #Checking for missing data\n",
    "\n",
    "\n",
    "\n",
    "\n"
   ]
  },
  {
   "cell_type": "code",
   "execution_count": 308,
   "metadata": {},
   "outputs": [
    {
     "name": "stdout",
     "output_type": "stream",
     "text": [
      "3\n"
     ]
    }
   ],
   "source": [
    "df.dropna(inplace=True) #Amenity has 1200, missing ~700.Removed missing data.\n",
    "df = df[df.patroncount >=3] \n",
    "print(df['patroncount'].min()) # Test to see minimum group set to 3\n",
    "df = df[(df.amenity != 'Playground') | df.in_playground] #Remove conflicting Data in playground\n",
    "\n",
    "\n"
   ]
  },
  {
   "cell_type": "code",
   "execution_count": 309,
   "metadata": {},
   "outputs": [
    {
     "name": "stdout",
     "output_type": "stream",
     "text": [
      "amenity\n",
      "Track/field area                      74.452830\n",
      "Walking path                          67.899160\n",
      "Open field/multi-purpose play area    59.555556\n",
      "Baseball field                        50.438017\n",
      "Soccer field                          39.069182\n",
      "Basketball court                      33.888889\n",
      "Adult fitness equipment               31.646465\n",
      "Playground                            30.211009\n",
      "Bench/sitting area                    23.813953\n",
      "Chess area                            20.083333\n",
      "Handall court                         15.863636\n",
      "Skate Park                            12.000000\n",
      "Tennis courts                         11.333333\n",
      "Name: patroncount, dtype: float64\n"
     ]
    }
   ],
   "source": [
    "#Explore data\n",
    "crowd = df.groupby('amenity')['patroncount'].mean().sort_values(ascending=False) #amenity average crowd sizes\n",
    "print(crowd)"
   ]
  },
  {
   "cell_type": "code",
   "execution_count": 310,
   "metadata": {},
   "outputs": [
    {
     "data": {
      "image/png": "[encoded data removed]",
      "text/plain": [
       "<Figure size 432x288 with 1 Axes>"
      ]
     },
     "metadata": {
      "needs_background": "light"
     },
     "output_type": "display_data"
    }
   ],
   "source": [
    "#Visualise Data\n",
    "crowd.plot.barh()\n",
    "plt.xlabel('Mean')\n",
    "#plt.tight_layout() #Don't like this for now \n",
    "plt.show()\n"
   ]
  }
 ],
 "metadata": {
  "interpreter": {
   "hash": "b0fa6594d8f4cbf19f97940f81e996739fb7646882a419484c72d19e05852a7e"
  },
  "kernelspec": {
   "display_name": "Python 3.9.10 64-bit",
   "language": "python",
   "name": "python3"
  },
  "language_info": {
   "codemirror_mode": {
    "name": "ipython",
    "version": 3
   },
   "file_extension": ".py",
   "mimetype": "text/x-python",
   "name": "python",
   "nbconvert_exporter": "python",
   "pygments_lexer": "ipython3",
   "version": "3.9.10"
  },
  "orig_nbformat": 4
 },
 "nbformat": 4,
 "nbformat_minor": 2
}
